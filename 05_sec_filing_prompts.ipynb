{
 "cells": [
  {
   "cell_type": "markdown",
   "metadata": {},
   "source": [
    "### RAG Flow - Additionally Chunked"
   ]
  },
  {
   "cell_type": "markdown",
   "metadata": {},
   "source": [
    "##### Initialize environment"
   ]
  },
  {
   "cell_type": "code",
   "execution_count": 1,
   "metadata": {},
   "outputs": [
    {
     "name": "stderr",
     "output_type": "stream",
     "text": [
      "/Users/nk/Documents/projects/toy_llm/.venv/lib/python3.11/site-packages/tqdm/auto.py:21: TqdmWarning: IProgress not found. Please update jupyter and ipywidgets. See https://ipywidgets.readthedocs.io/en/stable/user_install.html\n",
      "  from .autonotebook import tqdm as notebook_tqdm\n"
     ]
    }
   ],
   "source": [
    "import json\n",
    "\n",
    "from elasticsearch import Elasticsearch\n",
    "from openai import OpenAI\n",
    "from sentence_transformers import SentenceTransformer\n",
    "\n",
    "from helper_functions import encoding\n",
    "from helper_functions import indexing\n",
    "from helper_functions import prompting\n",
    "from helper_functions import searching"
   ]
  },
  {
   "cell_type": "code",
   "execution_count": 107,
   "metadata": {},
   "outputs": [],
   "source": [
    "with open(\"data/documents_chunked_3000.json\") as f:\n",
    "    documents = json.load(f)"
   ]
  },
  {
   "cell_type": "markdown",
   "metadata": {},
   "source": [
    "Setup:\n",
    "- Documents:\n",
    "    - API response, chunked by table and 3000 character limit\n",
    "- Embedding:\n",
    "    - SentenceTransformer all-mpnet-base-v2\n",
    "- Search:\n",
    "    - Elasticsearch without boosting (i.e. base source without any changes)\n",
    "    - Similarity measure: cosine similarity\n",
    "- 2 LLMs:\n",
    "    - Ollama moondream - open source LLM model that can be run on local machine's CPU\n",
    "    - OpenAI's ChatGPT 3.5 Turbo via API"
   ]
  },
  {
   "cell_type": "code",
   "execution_count": 105,
   "metadata": {},
   "outputs": [],
   "source": [
    "embedding_model = SentenceTransformer(\"all-mpnet-base-v2\")\n",
    "\n",
    "llm_client = OpenAI(base_url=\"http://localhost:11434/v1/\", api_key=\"ollama\")\n",
    "model_name = \"moondream\"\n",
    "\n",
    "es_client = Elasticsearch(\"http://localhost:9200\")\n",
    "similarity = \"cosine\"\n",
    "base_source = [\"reporting_period\", \"filing_type\", \"section\", \"text\", \"id\"]"
   ]
  },
  {
   "cell_type": "code",
   "execution_count": 112,
   "metadata": {},
   "outputs": [
    {
     "name": "stderr",
     "output_type": "stream",
     "text": [
      "100%|██████████| 181/181 [01:03<00:00,  2.84it/s]\n"
     ]
    }
   ],
   "source": [
    "documents = encoding.encode_documents(documents, embedding_model)"
   ]
  },
  {
   "cell_type": "code",
   "execution_count": 113,
   "metadata": {},
   "outputs": [
    {
     "name": "stderr",
     "output_type": "stream",
     "text": [
      "100%|██████████| 181/181 [00:01<00:00, 127.92it/s]\n"
     ]
    }
   ],
   "source": [
    "dims = len(documents[0][\"text_vector\"])\n",
    "\n",
    "index_name = \"sec-filing-index\"\n",
    "\n",
    "indexing.index_documents(\n",
    "    documents=documents,\n",
    "    es_client=es_client,\n",
    "    index_name=index_name,\n",
    "    dims=dims,\n",
    "    similarity=similarity,\n",
    ")"
   ]
  },
  {
   "cell_type": "markdown",
   "metadata": {},
   "source": [
    "-----"
   ]
  },
  {
   "cell_type": "markdown",
   "metadata": {},
   "source": [
    "##### Generate responses - Moondream"
   ]
  },
  {
   "cell_type": "code",
   "execution_count": 114,
   "metadata": {},
   "outputs": [],
   "source": [
    "query = \"What was the revenue for the quarter ending 2023-06-30?\""
   ]
  },
  {
   "cell_type": "markdown",
   "metadata": {},
   "source": [
    "Plain text query"
   ]
  },
  {
   "cell_type": "code",
   "execution_count": 115,
   "metadata": {},
   "outputs": [],
   "source": [
    "search_query_text = searching.elastic_search_text_query(\n",
    "    query=query,\n",
    "    company=\"pltr\",\n",
    "    base_source=base_source,\n",
    ")\n",
    "\n",
    "answer_text = prompting.rag(\n",
    "    query=query,\n",
    "    search_query=search_query_text,\n",
    "    search_client=es_client,\n",
    "    llm_client=llm_client,\n",
    "    retrieval_model=\"moondream\",\n",
    ")"
   ]
  },
  {
   "cell_type": "code",
   "execution_count": 116,
   "metadata": {},
   "outputs": [
    {
     "data": {
      "text/plain": [
       "'\\n'"
      ]
     },
     "execution_count": 116,
     "metadata": {},
     "output_type": "execute_result"
    }
   ],
   "source": [
    "answer_text"
   ]
  },
  {
   "cell_type": "markdown",
   "metadata": {},
   "source": [
    "Vectorized text data"
   ]
  },
  {
   "cell_type": "code",
   "execution_count": 117,
   "metadata": {},
   "outputs": [],
   "source": [
    "search_query_text_vector = searching.elastic_search_knn_query(\n",
    "    embedding_model=embedding_model,\n",
    "    query=query,\n",
    "    filter_company=\"pltr\",\n",
    "    source=base_source,\n",
    "    vector_field=\"text_vector\",\n",
    ")\n",
    "\n",
    "answer_text_vector = prompting.rag(\n",
    "    query=query,\n",
    "    search_query=search_query_text_vector,\n",
    "    search_client=es_client,\n",
    "    llm_client=llm_client,\n",
    "    retrieval_model=model_name,\n",
    ")"
   ]
  },
  {
   "cell_type": "code",
   "execution_count": 118,
   "metadata": {},
   "outputs": [
    {
     "data": {
      "text/plain": [
       "'\\n        0.36  5675.52  5675.53'"
      ]
     },
     "execution_count": 118,
     "metadata": {},
     "output_type": "execute_result"
    }
   ],
   "source": [
    "answer_text_vector"
   ]
  },
  {
   "cell_type": "markdown",
   "metadata": {},
   "source": [
    "Vectorized text data + vectorized attribute data"
   ]
  },
  {
   "cell_type": "code",
   "execution_count": 119,
   "metadata": {},
   "outputs": [],
   "source": [
    "search_query_combined_vector = searching.elastic_search_combined_query(\n",
    "    embedding_model=embedding_model,\n",
    "    query=query,\n",
    "    filter_company=\"pltr\",\n",
    "    source=base_source,\n",
    "    vector_fields=[\"text_vector\", \"non_text_vector\"],\n",
    ")\n",
    "\n",
    "answer_combined = prompting.rag(\n",
    "    query=query,\n",
    "    search_query=search_query_combined_vector,\n",
    "    search_client=es_client,\n",
    "    llm_client=llm_client,\n",
    "    retrieval_model=model_name,\n",
    ")"
   ]
  },
  {
   "cell_type": "code",
   "execution_count": 120,
   "metadata": {},
   "outputs": [
    {
     "data": {
      "text/plain": [
       "'\\n 1. United States $ 1,161,416; 58/100,000,000 (7,976) (56)'"
      ]
     },
     "execution_count": 120,
     "metadata": {},
     "output_type": "execute_result"
    }
   ],
   "source": [
    "answer_combined"
   ]
  },
  {
   "cell_type": "markdown",
   "metadata": {},
   "source": [
    "Thoughts:\n",
    "- While still nothing close to the correct answer, text vector based semantic search now is returning something remotely relevant"
   ]
  },
  {
   "cell_type": "markdown",
   "metadata": {},
   "source": [
    "----"
   ]
  },
  {
   "cell_type": "markdown",
   "metadata": {},
   "source": [
    "##### Generate responses - ChatGPT 3.5"
   ]
  },
  {
   "cell_type": "code",
   "execution_count": 121,
   "metadata": {},
   "outputs": [],
   "source": [
    "llm_client_chatgpt = OpenAI()\n",
    "model_name_chatgpt = \"gpt-3.5-turbo\""
   ]
  },
  {
   "cell_type": "code",
   "execution_count": 122,
   "metadata": {},
   "outputs": [],
   "source": [
    "answer_text_gpt = prompting.rag(\n",
    "    query=query,\n",
    "    search_query=search_query_text,\n",
    "    search_client=es_client,\n",
    "    llm_client=llm_client_chatgpt,\n",
    "    retrieval_model=model_name_chatgpt,\n",
    "    index_name=index_name,\n",
    ")"
   ]
  },
  {
   "cell_type": "code",
   "execution_count": 123,
   "metadata": {},
   "outputs": [
    {
     "data": {
      "text/plain": [
       "'The revenue for the quarter ending 2023-06-30 was not provided in the context.'"
      ]
     },
     "execution_count": 123,
     "metadata": {},
     "output_type": "execute_result"
    }
   ],
   "source": [
    "answer_text_gpt"
   ]
  },
  {
   "cell_type": "code",
   "execution_count": 124,
   "metadata": {},
   "outputs": [],
   "source": [
    "answer_text_vector_gpt = prompting.rag(\n",
    "    query=query,\n",
    "    search_query=search_query_text_vector,\n",
    "    search_client=es_client,\n",
    "    llm_client=llm_client_chatgpt,\n",
    "    retrieval_model=model_name_chatgpt,\n",
    "    index_name=index_name,\n",
    ")"
   ]
  },
  {
   "cell_type": "code",
   "execution_count": 125,
   "metadata": {},
   "outputs": [
    {
     "data": {
      "text/plain": [
       "'The revenue for the quarter ending 2023-06-30 was $2,225,012.'"
      ]
     },
     "execution_count": 125,
     "metadata": {},
     "output_type": "execute_result"
    }
   ],
   "source": [
    "answer_text_vector_gpt"
   ]
  },
  {
   "cell_type": "code",
   "execution_count": 126,
   "metadata": {},
   "outputs": [],
   "source": [
    "answer_combined_gpt = prompting.rag(\n",
    "    query=query,\n",
    "    search_query=search_query_combined_vector,\n",
    "    search_client=es_client,\n",
    "    llm_client=llm_client_chatgpt,\n",
    "    retrieval_model=model_name_chatgpt,\n",
    "    index_name=index_name,\n",
    ")"
   ]
  },
  {
   "cell_type": "code",
   "execution_count": 127,
   "metadata": {},
   "outputs": [
    {
     "data": {
      "text/plain": [
       "'The revenue for the quarter ending 2023-06-30 was $2,225,012.'"
      ]
     },
     "execution_count": 127,
     "metadata": {},
     "output_type": "execute_result"
    }
   ],
   "source": [
    "answer_combined_gpt"
   ]
  },
  {
   "cell_type": "markdown",
   "metadata": {},
   "source": [
    "---"
   ]
  },
  {
   "cell_type": "markdown",
   "metadata": {},
   "source": [
    "---"
   ]
  },
  {
   "cell_type": "markdown",
   "metadata": {},
   "source": [
    "---"
   ]
  },
  {
   "cell_type": "markdown",
   "metadata": {},
   "source": [
    "##### Generate responses - Moondream"
   ]
  },
  {
   "cell_type": "markdown",
   "metadata": {},
   "source": [
    "Retrying the flow, but using a 500 character-limit chunked documents"
   ]
  },
  {
   "cell_type": "code",
   "execution_count": 85,
   "metadata": {},
   "outputs": [],
   "source": [
    "with open(\"data/documents_chunked_500.json\") as f:\n",
    "    documents_500 = json.load(f)"
   ]
  },
  {
   "cell_type": "markdown",
   "metadata": {},
   "source": [
    "Setup:\n",
    "- Documents:\n",
    "    - API response, chunked by table and 500 character limit\n",
    "- Embedding:\n",
    "    - SentenceTransformer all-mpnet-base-v2\n",
    "- Search:\n",
    "    - Elasticsearch without boosting (i.e. base source without any changes)\n",
    "    - Similarity measure: cosine similarity\n",
    "- 2 LLMs:\n",
    "    - Ollama moondream - open source LLM model that can be run on local machine's CPU\n",
    "    - OpenAI's ChatGPT 3.5 Turbo via API"
   ]
  },
  {
   "cell_type": "code",
   "execution_count": 86,
   "metadata": {},
   "outputs": [],
   "source": [
    "embedding_model = SentenceTransformer(\"all-mpnet-base-v2\")\n",
    "\n",
    "llm_client = OpenAI(base_url=\"http://localhost:11434/v1/\", api_key=\"ollama\")\n",
    "model_name = \"moondream\"\n",
    "\n",
    "es_client = Elasticsearch(\"http://localhost:9200\")\n",
    "similarity = \"cosine\"\n",
    "base_source = [\"reporting_period\", \"filing_type\", \"section\", \"text\", \"id\"]"
   ]
  },
  {
   "cell_type": "code",
   "execution_count": 88,
   "metadata": {},
   "outputs": [
    {
     "name": "stderr",
     "output_type": "stream",
     "text": [
      "100%|██████████| 669/669 [03:43<00:00,  2.99it/s]\n"
     ]
    }
   ],
   "source": [
    "documents_500 = encoding.encode_documents(documents_500, embedding_model)"
   ]
  },
  {
   "cell_type": "code",
   "execution_count": 131,
   "metadata": {},
   "outputs": [
    {
     "name": "stderr",
     "output_type": "stream",
     "text": [
      "100%|██████████| 669/669 [00:08<00:00, 77.53it/s]\n"
     ]
    }
   ],
   "source": [
    "dims = len(documents_500[0][\"text_vector\"])\n",
    "\n",
    "index_name_500 = \"sec-filing-index-500\"\n",
    "\n",
    "indexing.index_documents(\n",
    "    documents=documents_500,\n",
    "    es_client=es_client,\n",
    "    index_name=index_name_500,\n",
    "    dims=dims,\n",
    "    similarity=similarity,\n",
    ")"
   ]
  },
  {
   "cell_type": "markdown",
   "metadata": {},
   "source": [
    "-----"
   ]
  },
  {
   "cell_type": "markdown",
   "metadata": {},
   "source": [
    "##### Generate responses"
   ]
  },
  {
   "cell_type": "code",
   "execution_count": 132,
   "metadata": {},
   "outputs": [],
   "source": [
    "query = \"What was the revenue for the quarter ending 2023-06-30?\""
   ]
  },
  {
   "cell_type": "markdown",
   "metadata": {},
   "source": [
    "Plain text query"
   ]
  },
  {
   "cell_type": "code",
   "execution_count": 133,
   "metadata": {},
   "outputs": [],
   "source": [
    "search_query_text = searching.elastic_search_text_query(\n",
    "    query=query,\n",
    "    company=\"pltr\",\n",
    "    base_source=base_source,\n",
    ")\n",
    "\n",
    "answer_text = prompting.rag(\n",
    "    query=query,\n",
    "    search_query=search_query_text,\n",
    "    search_client=es_client,\n",
    "    llm_client=llm_client,\n",
    "    retrieval_model=\"moondream\",\n",
    "    index_name=index_name_500,\n",
    ")"
   ]
  },
  {
   "cell_type": "code",
   "execution_count": 134,
   "metadata": {},
   "outputs": [
    {
     "data": {
      "text/plain": [
       "''"
      ]
     },
     "execution_count": 134,
     "metadata": {},
     "output_type": "execute_result"
    }
   ],
   "source": [
    "answer_text"
   ]
  },
  {
   "cell_type": "markdown",
   "metadata": {},
   "source": [
    "Vectorized text data"
   ]
  },
  {
   "cell_type": "code",
   "execution_count": 135,
   "metadata": {},
   "outputs": [],
   "source": [
    "search_query_text_vector = searching.elastic_search_knn_query(\n",
    "    embedding_model=embedding_model,\n",
    "    query=query,\n",
    "    filter_company=\"pltr\",\n",
    "    source=base_source,\n",
    "    vector_field=\"text_vector\",\n",
    ")\n",
    "\n",
    "answer_text_vector = prompting.rag(\n",
    "    query=query,\n",
    "    search_query=search_query_text_vector,\n",
    "    search_client=es_client,\n",
    "    llm_client=llm_client,\n",
    "    retrieval_model=model_name,\n",
    "    index_name=index_name_500,\n",
    ")"
   ]
  },
  {
   "cell_type": "code",
   "execution_count": 136,
   "metadata": {},
   "outputs": [
    {
     "data": {
      "text/plain": [
       "'ery  5'"
      ]
     },
     "execution_count": 136,
     "metadata": {},
     "output_type": "execute_result"
    }
   ],
   "source": [
    "answer_text_vector"
   ]
  },
  {
   "cell_type": "markdown",
   "metadata": {},
   "source": [
    "Vectorized text data + vectorized attribute data"
   ]
  },
  {
   "cell_type": "code",
   "execution_count": 137,
   "metadata": {},
   "outputs": [],
   "source": [
    "search_query_combined_vector = searching.elastic_search_combined_query(\n",
    "    embedding_model=embedding_model,\n",
    "    query=query,\n",
    "    filter_company=\"pltr\",\n",
    "    source=base_source,\n",
    "    vector_fields=[\"text_vector\", \"non_text_vector\"],\n",
    ")\n",
    "\n",
    "answer_combined = prompting.rag(\n",
    "    query=query,\n",
    "    search_query=search_query_combined_vector,\n",
    "    search_client=es_client,\n",
    "    llm_client=llm_client,\n",
    "    retrieval_model=model_name,\n",
    "    index_name=index_name_500,\n",
    ")"
   ]
  },
  {
   "cell_type": "code",
   "execution_count": 138,
   "metadata": {},
   "outputs": [
    {
     "data": {
      "text/plain": [
       "'\\nThere is more text to answer this question but I can tell you that the two main points in question are not only from different texts but they contain two numbers that say $831,047 and $2,599,540 which might be revenue or loss figure.'"
      ]
     },
     "execution_count": 138,
     "metadata": {},
     "output_type": "execute_result"
    }
   ],
   "source": [
    "answer_combined"
   ]
  },
  {
   "cell_type": "markdown",
   "metadata": {},
   "source": [
    "----"
   ]
  },
  {
   "cell_type": "markdown",
   "metadata": {},
   "source": [
    "##### Generate responses - ChatGPT 3.5"
   ]
  },
  {
   "cell_type": "code",
   "execution_count": 139,
   "metadata": {},
   "outputs": [],
   "source": [
    "llm_client_chatgpt = OpenAI()\n",
    "model_name_chatgpt = \"gpt-3.5-turbo\""
   ]
  },
  {
   "cell_type": "code",
   "execution_count": null,
   "metadata": {},
   "outputs": [],
   "source": [
    "answer_text_gpt = prompting.rag(\n",
    "    query=query,\n",
    "    search_query=search_query_text,\n",
    "    search_client=es_client,\n",
    "    llm_client=llm_client_chatgpt,\n",
    "    retrieval_model=model_name_chatgpt,\n",
    "    index_name=index_name_500,\n",
    ")"
   ]
  },
  {
   "cell_type": "code",
   "execution_count": 141,
   "metadata": {},
   "outputs": [
    {
     "data": {
      "text/plain": [
       "'The revenue for the quarter ending 2023-06-30 is not explicitly mentioned in the provided context.'"
      ]
     },
     "execution_count": 141,
     "metadata": {},
     "output_type": "execute_result"
    }
   ],
   "source": [
    "answer_text_gpt"
   ]
  },
  {
   "cell_type": "code",
   "execution_count": 142,
   "metadata": {},
   "outputs": [],
   "source": [
    "answer_text_vector_gpt = prompting.rag(\n",
    "    query=query,\n",
    "    search_query=search_query_text_vector,\n",
    "    search_client=es_client,\n",
    "    llm_client=llm_client_chatgpt,\n",
    "    retrieval_model=model_name_chatgpt,\n",
    "    index_name=index_name_500,\n",
    ")"
   ]
  },
  {
   "cell_type": "code",
   "execution_count": 143,
   "metadata": {},
   "outputs": [
    {
     "data": {
      "text/plain": [
       "'The revenue for the quarter ending 2023-06-30 was not directly provided in the context. The total revenue for the year ending 2023-12-31 was $2,225,012 million.'"
      ]
     },
     "execution_count": 143,
     "metadata": {},
     "output_type": "execute_result"
    }
   ],
   "source": [
    "answer_text_vector_gpt"
   ]
  },
  {
   "cell_type": "code",
   "execution_count": 144,
   "metadata": {},
   "outputs": [],
   "source": [
    "answer_combined_gpt = prompting.rag(\n",
    "    query=query,\n",
    "    search_query=search_query_combined_vector,\n",
    "    search_client=es_client,\n",
    "    llm_client=llm_client_chatgpt,\n",
    "    retrieval_model=model_name_chatgpt,\n",
    "    index_name=index_name_500,\n",
    ")"
   ]
  },
  {
   "cell_type": "code",
   "execution_count": 145,
   "metadata": {},
   "outputs": [
    {
     "data": {
      "text/plain": [
       "'The revenue for the quarter ending 2023-06-30 was not directly provided in the context.'"
      ]
     },
     "execution_count": 145,
     "metadata": {},
     "output_type": "execute_result"
    }
   ],
   "source": [
    "answer_combined_gpt"
   ]
  },
  {
   "cell_type": "markdown",
   "metadata": {},
   "source": [
    "---"
   ]
  },
  {
   "cell_type": "markdown",
   "metadata": {},
   "source": [
    "Narrowing the contextual documents has helped improve search results, however, without proper parsing of financial data, we are still not getting the correct answer. Note, the $2,225,012 figure that is repeatedly brought up is an actual FY2023 revenue for Palantir (but is in thousands)"
   ]
  }
 ],
 "metadata": {
  "kernelspec": {
   "display_name": ".venv",
   "language": "python",
   "name": "python3"
  },
  "language_info": {
   "codemirror_mode": {
    "name": "ipython",
    "version": 3
   },
   "file_extension": ".py",
   "mimetype": "text/x-python",
   "name": "python",
   "nbconvert_exporter": "python",
   "pygments_lexer": "ipython3",
   "version": "3.11.11"
  }
 },
 "nbformat": 4,
 "nbformat_minor": 2
}
