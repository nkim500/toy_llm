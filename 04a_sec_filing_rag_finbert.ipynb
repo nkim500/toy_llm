{
 "cells": [
  {
   "cell_type": "markdown",
   "metadata": {},
   "source": [
    "### RAG Flow - Chunked and Embedded using FinBERT"
   ]
  },
  {
   "cell_type": "markdown",
   "metadata": {},
   "source": [
    "##### Initialize environment"
   ]
  },
  {
   "cell_type": "code",
   "execution_count": 22,
   "metadata": {},
   "outputs": [],
   "source": [
    "import json\n",
    "\n",
    "from elasticsearch import Elasticsearch\n",
    "from openai import OpenAI\n",
    "\n",
    "from helper_functions import encoding\n",
    "from helper_functions import indexing\n",
    "from helper_functions import prompting\n",
    "from helper_functions import searching"
   ]
  },
  {
   "cell_type": "code",
   "execution_count": 3,
   "metadata": {},
   "outputs": [],
   "source": [
    "with open(\"data/documents_chunked_3000.json\") as f:\n",
    "    documents = json.load(f)"
   ]
  },
  {
   "cell_type": "markdown",
   "metadata": {},
   "source": [
    "Setup:\n",
    "- Documents:\n",
    "    - API response, chunked by table and 3000 character limit\n",
    "- Embedding:\n",
    "    - ProsusAI finbert\n",
    "- Search:\n",
    "    - Elasticsearch without boosting (i.e. base source without any changes)\n",
    "    - Similarity measure: cosine similarity\n",
    "- 2 LLMs:\n",
    "    - Ollama moondream - open source LLM model that can be run on local machine's CPU\n",
    "    - OpenAI's ChatGPT 3.5 Turbo via API"
   ]
  },
  {
   "cell_type": "code",
   "execution_count": 25,
   "metadata": {},
   "outputs": [],
   "source": [
    "embedding_model = encoding.FinBertEmbedder()\n",
    "\n",
    "llm_client = OpenAI(base_url=\"http://localhost:11434/v1/\", api_key=\"ollama\")\n",
    "model_name = \"moondream\"\n",
    "\n",
    "es_client = Elasticsearch(\"http://localhost:9200\")\n",
    "similarity = \"cosine\"\n",
    "base_source = [\"reporting_period\", \"filing_type\", \"section\", \"text\", \"id\"]"
   ]
  },
  {
   "cell_type": "code",
   "execution_count": 26,
   "metadata": {},
   "outputs": [
    {
     "name": "stderr",
     "output_type": "stream",
     "text": [
      "100%|██████████| 181/181 [01:08<00:00,  2.65it/s]\n"
     ]
    }
   ],
   "source": [
    "documents = encoding.encode_documents(documents, embedding_model)"
   ]
  },
  {
   "cell_type": "code",
   "execution_count": 27,
   "metadata": {},
   "outputs": [
    {
     "name": "stderr",
     "output_type": "stream",
     "text": [
      "100%|██████████| 181/181 [00:02<00:00, 75.39it/s] \n"
     ]
    }
   ],
   "source": [
    "dims = len(documents[0][\"text_vector\"])\n",
    "\n",
    "index_name = \"sec-filing-index\"\n",
    "\n",
    "indexing.index_documents(\n",
    "    documents=documents,\n",
    "    es_client=es_client,\n",
    "    index_name=index_name,\n",
    "    dims=dims,\n",
    "    similarity=similarity,\n",
    ")"
   ]
  },
  {
   "cell_type": "markdown",
   "metadata": {},
   "source": [
    "-----"
   ]
  },
  {
   "cell_type": "markdown",
   "metadata": {},
   "source": [
    "##### Generate responses - Moondream"
   ]
  },
  {
   "cell_type": "code",
   "execution_count": 28,
   "metadata": {},
   "outputs": [],
   "source": [
    "query = \"What was the revenue for the quarter ending 2023-06-30?\""
   ]
  },
  {
   "cell_type": "markdown",
   "metadata": {},
   "source": [
    "Plain text query"
   ]
  },
  {
   "cell_type": "code",
   "execution_count": 29,
   "metadata": {},
   "outputs": [],
   "source": [
    "search_query_text = searching.elastic_search_text_query(\n",
    "    query=query,\n",
    "    company=\"pltr\",\n",
    "    base_source=base_source,\n",
    ")\n",
    "\n",
    "answer_text = prompting.rag(\n",
    "    query=query,\n",
    "    search_query=search_query_text,\n",
    "    search_client=es_client,\n",
    "    llm_client=llm_client,\n",
    "    retrieval_model=\"moondream\",\n",
    ")"
   ]
  },
  {
   "cell_type": "code",
   "execution_count": 30,
   "metadata": {},
   "outputs": [
    {
     "data": {
      "text/plain": [
       "''"
      ]
     },
     "execution_count": 30,
     "metadata": {},
     "output_type": "execute_result"
    }
   ],
   "source": [
    "answer_text"
   ]
  },
  {
   "cell_type": "markdown",
   "metadata": {},
   "source": [
    "Vectorized text data"
   ]
  },
  {
   "cell_type": "code",
   "execution_count": 31,
   "metadata": {},
   "outputs": [],
   "source": [
    "search_query_text_vector = searching.elastic_search_knn_query(\n",
    "    embedding_model=embedding_model,\n",
    "    query=query,\n",
    "    filter_company=\"pltr\",\n",
    "    source=base_source,\n",
    "    vector_field=\"text_vector\",\n",
    ")\n",
    "\n",
    "answer_text_vector = prompting.rag(\n",
    "    query=query,\n",
    "    search_query=search_query_text_vector,\n",
    "    search_client=es_client,\n",
    "    llm_client=llm_client,\n",
    "    retrieval_model=model_name,\n",
    ")"
   ]
  },
  {
   "cell_type": "code",
   "execution_count": 32,
   "metadata": {},
   "outputs": [
    {
     "data": {
      "text/plain": [
       "'\\n Period: \\n  2002-03-31-09:00 am/pm'"
      ]
     },
     "execution_count": 32,
     "metadata": {},
     "output_type": "execute_result"
    }
   ],
   "source": [
    "answer_text_vector"
   ]
  },
  {
   "cell_type": "markdown",
   "metadata": {},
   "source": [
    "Vectorized text data + vectorized attribute data"
   ]
  },
  {
   "cell_type": "code",
   "execution_count": 33,
   "metadata": {},
   "outputs": [],
   "source": [
    "search_query_combined_vector = searching.elastic_search_combined_query(\n",
    "    embedding_model=embedding_model,\n",
    "    query=query,\n",
    "    filter_company=\"pltr\",\n",
    "    source=base_source,\n",
    "    vector_fields=[\"text_vector\", \"non_text_vector\"],\n",
    ")\n",
    "\n",
    "answer_combined = prompting.rag(\n",
    "    query=query,\n",
    "    search_query=search_query_combined_vector,\n",
    "    search_client=es_client,\n",
    "    llm_client=llm_client,\n",
    "    retrieval_model=model_name,\n",
    ")"
   ]
  },
  {
   "cell_type": "code",
   "execution_count": 34,
   "metadata": {},
   "outputs": [
    {
     "data": {
      "text/plain": [
       "'\\n period: 2023-07-31 \\n filing_type:10k'"
      ]
     },
     "execution_count": 34,
     "metadata": {},
     "output_type": "execute_result"
    }
   ],
   "source": [
    "answer_combined"
   ]
  },
  {
   "cell_type": "markdown",
   "metadata": {},
   "source": [
    "Thoughts:\n",
    "- While still nothing close to the correct answer, text vector based semantic search now is returning something remotely relevant"
   ]
  },
  {
   "cell_type": "markdown",
   "metadata": {},
   "source": [
    "----"
   ]
  },
  {
   "cell_type": "markdown",
   "metadata": {},
   "source": [
    "##### Generate responses - ChatGPT 3.5"
   ]
  },
  {
   "cell_type": "code",
   "execution_count": 35,
   "metadata": {},
   "outputs": [],
   "source": [
    "llm_client_chatgpt = OpenAI()\n",
    "model_name_chatgpt = \"gpt-3.5-turbo\""
   ]
  },
  {
   "cell_type": "code",
   "execution_count": 36,
   "metadata": {},
   "outputs": [],
   "source": [
    "answer_text_gpt = prompting.rag(\n",
    "    query=query,\n",
    "    search_query=search_query_text,\n",
    "    search_client=es_client,\n",
    "    llm_client=llm_client_chatgpt,\n",
    "    retrieval_model=model_name_chatgpt,\n",
    "    index_name=index_name,\n",
    ")"
   ]
  },
  {
   "cell_type": "code",
   "execution_count": 37,
   "metadata": {},
   "outputs": [
    {
     "data": {
      "text/plain": [
       "'The revenue for the quarter ending 2023-06-30 was not provided in the context. The revenue information in the context only covers the year ended December 31, 2023 compared to 2022.'"
      ]
     },
     "execution_count": 37,
     "metadata": {},
     "output_type": "execute_result"
    }
   ],
   "source": [
    "answer_text_gpt"
   ]
  },
  {
   "cell_type": "code",
   "execution_count": 38,
   "metadata": {},
   "outputs": [],
   "source": [
    "answer_text_vector_gpt = prompting.rag(\n",
    "    query=query,\n",
    "    search_query=search_query_text_vector,\n",
    "    search_client=es_client,\n",
    "    llm_client=llm_client_chatgpt,\n",
    "    retrieval_model=model_name_chatgpt,\n",
    "    index_name=index_name,\n",
    ")"
   ]
  },
  {
   "cell_type": "code",
   "execution_count": 39,
   "metadata": {},
   "outputs": [
    {
     "data": {
      "text/plain": [
       "\"I'm sorry, but the revenue for the quarter ending 2023-06-30 is not provided in the given context.\""
      ]
     },
     "execution_count": 39,
     "metadata": {},
     "output_type": "execute_result"
    }
   ],
   "source": [
    "answer_text_vector_gpt"
   ]
  },
  {
   "cell_type": "code",
   "execution_count": 40,
   "metadata": {},
   "outputs": [],
   "source": [
    "answer_combined_gpt = prompting.rag(\n",
    "    query=query,\n",
    "    search_query=search_query_combined_vector,\n",
    "    search_client=es_client,\n",
    "    llm_client=llm_client_chatgpt,\n",
    "    retrieval_model=model_name_chatgpt,\n",
    "    index_name=index_name,\n",
    ")"
   ]
  },
  {
   "cell_type": "code",
   "execution_count": 41,
   "metadata": {},
   "outputs": [
    {
     "data": {
      "text/plain": [
       "\"I'm sorry, the revenue for the quarter ending 2023-06-30 is not directly provided in the context. You may need to look for a different source of information to find the answer.\""
      ]
     },
     "execution_count": 41,
     "metadata": {},
     "output_type": "execute_result"
    }
   ],
   "source": [
    "answer_combined_gpt"
   ]
  },
  {
   "cell_type": "markdown",
   "metadata": {},
   "source": [
    "---"
   ]
  },
  {
   "cell_type": "markdown",
   "metadata": {},
   "source": [
    "---"
   ]
  },
  {
   "cell_type": "markdown",
   "metadata": {},
   "source": [
    "---"
   ]
  },
  {
   "cell_type": "markdown",
   "metadata": {},
   "source": [
    "##### Generate responses - Moondream"
   ]
  },
  {
   "cell_type": "markdown",
   "metadata": {},
   "source": [
    "Retrying the flow, but using a 500 character-limit chunked documents"
   ]
  },
  {
   "cell_type": "code",
   "execution_count": 42,
   "metadata": {},
   "outputs": [],
   "source": [
    "with open(\"data/documents_chunked_500.json\") as f:\n",
    "    documents_500 = json.load(f)"
   ]
  },
  {
   "cell_type": "markdown",
   "metadata": {},
   "source": [
    "Setup:\n",
    "- Documents:\n",
    "    - API response, chunked by table and 500 character limit\n",
    "- Embedding:\n",
    "    - SentenceTransformer all-mpnet-base-v2\n",
    "- Search:\n",
    "    - Elasticsearch without boosting (i.e. base source without any changes)\n",
    "    - Similarity measure: cosine similarity\n",
    "- 2 LLMs:\n",
    "    - Ollama moondream - open source LLM model that can be run on local machine's CPU\n",
    "    - OpenAI's ChatGPT 3.5 Turbo via API"
   ]
  },
  {
   "cell_type": "code",
   "execution_count": 43,
   "metadata": {},
   "outputs": [
    {
     "name": "stderr",
     "output_type": "stream",
     "text": [
      "100%|██████████| 669/669 [01:53<00:00,  5.90it/s]\n"
     ]
    }
   ],
   "source": [
    "documents_500 = encoding.encode_documents(documents_500, embedding_model)"
   ]
  },
  {
   "cell_type": "code",
   "execution_count": 44,
   "metadata": {},
   "outputs": [
    {
     "name": "stderr",
     "output_type": "stream",
     "text": [
      "100%|██████████| 669/669 [00:06<00:00, 98.78it/s] \n"
     ]
    }
   ],
   "source": [
    "dims = len(documents_500[0][\"text_vector\"])\n",
    "\n",
    "index_name_500 = \"sec-filing-index-500\"\n",
    "\n",
    "indexing.index_documents(\n",
    "    documents=documents_500,\n",
    "    es_client=es_client,\n",
    "    index_name=index_name_500,\n",
    "    dims=dims,\n",
    "    similarity=similarity,\n",
    ")"
   ]
  },
  {
   "cell_type": "markdown",
   "metadata": {},
   "source": [
    "-----"
   ]
  },
  {
   "cell_type": "markdown",
   "metadata": {},
   "source": [
    "##### Generate responses"
   ]
  },
  {
   "cell_type": "code",
   "execution_count": 45,
   "metadata": {},
   "outputs": [],
   "source": [
    "query = \"What was the revenue for the quarter ending 2023-06-30?\""
   ]
  },
  {
   "cell_type": "markdown",
   "metadata": {},
   "source": [
    "Plain text query"
   ]
  },
  {
   "cell_type": "code",
   "execution_count": 46,
   "metadata": {},
   "outputs": [],
   "source": [
    "search_query_text = searching.elastic_search_text_query(\n",
    "    query=query,\n",
    "    company=\"pltr\",\n",
    "    base_source=base_source,\n",
    ")\n",
    "\n",
    "answer_text = prompting.rag(\n",
    "    query=query,\n",
    "    search_query=search_query_text,\n",
    "    search_client=es_client,\n",
    "    llm_client=llm_client,\n",
    "    retrieval_model=\"moondream\",\n",
    "    index_name=index_name_500,\n",
    ")"
   ]
  },
  {
   "cell_type": "code",
   "execution_count": 47,
   "metadata": {},
   "outputs": [
    {
     "data": {
      "text/plain": [
       "'xt'"
      ]
     },
     "execution_count": 47,
     "metadata": {},
     "output_type": "execute_result"
    }
   ],
   "source": [
    "answer_text"
   ]
  },
  {
   "cell_type": "markdown",
   "metadata": {},
   "source": [
    "Vectorized text data"
   ]
  },
  {
   "cell_type": "code",
   "execution_count": 48,
   "metadata": {},
   "outputs": [],
   "source": [
    "search_query_text_vector = searching.elastic_search_knn_query(\n",
    "    embedding_model=embedding_model,\n",
    "    query=query,\n",
    "    filter_company=\"pltr\",\n",
    "    source=base_source,\n",
    "    vector_field=\"text_vector\",\n",
    ")\n",
    "\n",
    "answer_text_vector = prompting.rag(\n",
    "    query=query,\n",
    "    search_query=search_query_text_vector,\n",
    "    search_client=es_client,\n",
    "    llm_client=llm_client,\n",
    "    retrieval_model=model_name,\n",
    "    index_name=index_name_500,\n",
    ")"
   ]
  },
  {
   "cell_type": "code",
   "execution_count": 49,
   "metadata": {},
   "outputs": [
    {
     "data": {
      "text/plain": [
       "'\\n Questions that do not pertain to a given template are not applicable and should not be included when answering questions or writing reports within this system, as it might affect the accuracy or context needed for that specific example.'"
      ]
     },
     "execution_count": 49,
     "metadata": {},
     "output_type": "execute_result"
    }
   ],
   "source": [
    "answer_text_vector"
   ]
  },
  {
   "cell_type": "markdown",
   "metadata": {},
   "source": [
    "Vectorized text data + vectorized attribute data"
   ]
  },
  {
   "cell_type": "code",
   "execution_count": 50,
   "metadata": {},
   "outputs": [],
   "source": [
    "search_query_combined_vector = searching.elastic_search_combined_query(\n",
    "    embedding_model=embedding_model,\n",
    "    query=query,\n",
    "    filter_company=\"pltr\",\n",
    "    source=base_source,\n",
    "    vector_fields=[\"text_vector\", \"non_text_vector\"],\n",
    ")\n",
    "\n",
    "answer_combined = prompting.rag(\n",
    "    query=query,\n",
    "    search_query=search_query_combined_vector,\n",
    "    search_client=es_client,\n",
    "    llm_client=llm_client,\n",
    "    retrieval_model=model_name,\n",
    "    index_name=index_name_500,\n",
    ")"
   ]
  },
  {
   "cell_type": "code",
   "execution_count": 51,
   "metadata": {},
   "outputs": [
    {
     "data": {
      "text/plain": [
       "''"
      ]
     },
     "execution_count": 51,
     "metadata": {},
     "output_type": "execute_result"
    }
   ],
   "source": [
    "answer_combined"
   ]
  },
  {
   "cell_type": "markdown",
   "metadata": {},
   "source": [
    "----"
   ]
  },
  {
   "cell_type": "markdown",
   "metadata": {},
   "source": [
    "##### Generate responses - ChatGPT 3.5"
   ]
  },
  {
   "cell_type": "code",
   "execution_count": 52,
   "metadata": {},
   "outputs": [],
   "source": [
    "llm_client_chatgpt = OpenAI()\n",
    "model_name_chatgpt = \"gpt-3.5-turbo\""
   ]
  },
  {
   "cell_type": "code",
   "execution_count": 53,
   "metadata": {},
   "outputs": [],
   "source": [
    "answer_text_gpt = prompting.rag(\n",
    "    query=query,\n",
    "    search_query=search_query_text,\n",
    "    search_client=es_client,\n",
    "    llm_client=llm_client_chatgpt,\n",
    "    retrieval_model=model_name_chatgpt,\n",
    "    index_name=index_name_500,\n",
    ")"
   ]
  },
  {
   "cell_type": "code",
   "execution_count": 54,
   "metadata": {},
   "outputs": [
    {
     "data": {
      "text/plain": [
       "'The revenue for the quarter ending 2023-06-30 is not explicitly provided in the given CONTEXT.'"
      ]
     },
     "execution_count": 54,
     "metadata": {},
     "output_type": "execute_result"
    }
   ],
   "source": [
    "answer_text_gpt"
   ]
  },
  {
   "cell_type": "code",
   "execution_count": 55,
   "metadata": {},
   "outputs": [],
   "source": [
    "answer_text_vector_gpt = prompting.rag(\n",
    "    query=query,\n",
    "    search_query=search_query_text_vector,\n",
    "    search_client=es_client,\n",
    "    llm_client=llm_client_chatgpt,\n",
    "    retrieval_model=model_name_chatgpt,\n",
    "    index_name=index_name_500,\n",
    ")"
   ]
  },
  {
   "cell_type": "code",
   "execution_count": 56,
   "metadata": {},
   "outputs": [
    {
     "data": {
      "text/plain": [
       "'The revenue for the quarter ending 2023-06-30 is not provided in the given CONTEXT.'"
      ]
     },
     "execution_count": 56,
     "metadata": {},
     "output_type": "execute_result"
    }
   ],
   "source": [
    "answer_text_vector_gpt"
   ]
  },
  {
   "cell_type": "code",
   "execution_count": 57,
   "metadata": {},
   "outputs": [],
   "source": [
    "answer_combined_gpt = prompting.rag(\n",
    "    query=query,\n",
    "    search_query=search_query_combined_vector,\n",
    "    search_client=es_client,\n",
    "    llm_client=llm_client_chatgpt,\n",
    "    retrieval_model=model_name_chatgpt,\n",
    "    index_name=index_name_500,\n",
    ")"
   ]
  },
  {
   "cell_type": "code",
   "execution_count": 58,
   "metadata": {},
   "outputs": [
    {
     "data": {
      "text/plain": [
       "'The CONTEXT does not provide the revenue for the quarter ending 2023-06-30.'"
      ]
     },
     "execution_count": 58,
     "metadata": {},
     "output_type": "execute_result"
    }
   ],
   "source": [
    "answer_combined_gpt"
   ]
  },
  {
   "cell_type": "markdown",
   "metadata": {},
   "source": [
    "---"
   ]
  },
  {
   "cell_type": "markdown",
   "metadata": {},
   "source": [
    "Using finbert did not help"
   ]
  }
 ],
 "metadata": {
  "kernelspec": {
   "display_name": ".venv",
   "language": "python",
   "name": "python3"
  },
  "language_info": {
   "codemirror_mode": {
    "name": "ipython",
    "version": 3
   },
   "file_extension": ".py",
   "mimetype": "text/x-python",
   "name": "python",
   "nbconvert_exporter": "python",
   "pygments_lexer": "ipython3",
   "version": "3.11.11"
  }
 },
 "nbformat": 4,
 "nbformat_minor": 2
}
