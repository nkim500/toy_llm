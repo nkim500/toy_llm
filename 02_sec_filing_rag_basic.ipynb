{
 "cells": [
  {
   "cell_type": "markdown",
   "metadata": {},
   "source": [
    "### RAG Flow - Baseline"
   ]
  },
  {
   "cell_type": "markdown",
   "metadata": {},
   "source": [
    "##### Initialize environment"
   ]
  },
  {
   "cell_type": "code",
   "execution_count": 1,
   "metadata": {},
   "outputs": [
    {
     "name": "stderr",
     "output_type": "stream",
     "text": [
      "/Users/nk/Documents/projects/toy_llm/.venv/lib/python3.11/site-packages/tqdm/auto.py:21: TqdmWarning: IProgress not found. Please update jupyter and ipywidgets. See https://ipywidgets.readthedocs.io/en/stable/user_install.html\n",
      "  from .autonotebook import tqdm as notebook_tqdm\n"
     ]
    }
   ],
   "source": [
    "import json\n",
    "\n",
    "from elasticsearch import Elasticsearch\n",
    "from openai import OpenAI\n",
    "from sentence_transformers import SentenceTransformer\n",
    "\n",
    "from helper_functions import encoding\n",
    "from helper_functions import indexing\n",
    "from helper_functions import prompting\n",
    "from helper_functions import searching"
   ]
  },
  {
   "cell_type": "code",
   "execution_count": 8,
   "metadata": {},
   "outputs": [],
   "source": [
    "with open(\"data/documents_with_ids.json\") as f:\n",
    "    documents = json.load(f)"
   ]
  },
  {
   "cell_type": "markdown",
   "metadata": {},
   "source": [
    "Setup:\n",
    "- Documents:\n",
    "    - API response, chunked by entire sections (e.g. financial statements, management discussions and analyses)\n",
    "- Embedding:\n",
    "    - SentenceTransformer all-mpnet-base-v2\n",
    "- Search:\n",
    "    - Elasticsearch without boosting (i.e. base source without any changes)\n",
    "    - Similarity measure: cosine similarity\n",
    "- LLM:\n",
    "    - Ollama moondream - open source LLM model that can be run on local machine's CPU"
   ]
  },
  {
   "cell_type": "code",
   "execution_count": 9,
   "metadata": {},
   "outputs": [],
   "source": [
    "embedding_model = SentenceTransformer(\"all-mpnet-base-v2\")\n",
    "\n",
    "llm_client = OpenAI(base_url=\"http://localhost:11434/v1/\", api_key=\"ollama\")\n",
    "model_name = \"moondream\"\n",
    "\n",
    "es_client = Elasticsearch(\"http://localhost:9200\")\n",
    "similarity = \"cosine\"\n",
    "base_source = [\"reporting_period\", \"filing_type\", \"section\", \"text\", \"id\"]"
   ]
  },
  {
   "cell_type": "code",
   "execution_count": 10,
   "metadata": {},
   "outputs": [
    {
     "name": "stderr",
     "output_type": "stream",
     "text": [
      "100%|██████████| 45/45 [00:18<00:00,  2.44it/s]\n"
     ]
    }
   ],
   "source": [
    "documents = encoding.encode_documents(documents, embedding_model)"
   ]
  },
  {
   "cell_type": "code",
   "execution_count": 11,
   "metadata": {},
   "outputs": [
    {
     "name": "stderr",
     "output_type": "stream",
     "text": [
      "100%|██████████| 45/45 [00:02<00:00, 21.68it/s]\n"
     ]
    }
   ],
   "source": [
    "dims = len(documents[0][\"text_vector\"])\n",
    "\n",
    "index_name = \"sec-filing-index\"\n",
    "\n",
    "indexing.index_documents(\n",
    "    documents=documents,\n",
    "    es_client=es_client,\n",
    "    index_name=index_name,\n",
    "    dims=dims,\n",
    "    similarity=similarity,\n",
    ")"
   ]
  },
  {
   "cell_type": "markdown",
   "metadata": {},
   "source": [
    "-----"
   ]
  },
  {
   "cell_type": "markdown",
   "metadata": {},
   "source": [
    "##### Generate responses"
   ]
  },
  {
   "cell_type": "code",
   "execution_count": 19,
   "metadata": {},
   "outputs": [],
   "source": [
    "query = \"What was the revenue for the quarter ending 2023-06-30\""
   ]
  },
  {
   "cell_type": "markdown",
   "metadata": {},
   "source": [
    "Plain text query"
   ]
  },
  {
   "cell_type": "code",
   "execution_count": 20,
   "metadata": {},
   "outputs": [],
   "source": [
    "search_query_text = searching.elastic_search_text_query(\n",
    "    query=query,\n",
    "    company=\"pltr\",\n",
    "    base_source=base_source,\n",
    ")\n",
    "\n",
    "answer_text = prompting.rag(\n",
    "    query=query,\n",
    "    search_query=search_query_text,\n",
    "    search_client=es_client,\n",
    "    llm_client=llm_client,\n",
    "    retrieval_model=\"moondream\",\n",
    ")"
   ]
  },
  {
   "cell_type": "code",
   "execution_count": 21,
   "metadata": {},
   "outputs": [
    {
     "data": {
      "text/plain": [
       "''"
      ]
     },
     "execution_count": 21,
     "metadata": {},
     "output_type": "execute_result"
    }
   ],
   "source": [
    "answer_text"
   ]
  },
  {
   "cell_type": "markdown",
   "metadata": {},
   "source": [
    "Vectorized text data"
   ]
  },
  {
   "cell_type": "code",
   "execution_count": 22,
   "metadata": {},
   "outputs": [],
   "source": [
    "search_query_text_vector = searching.elastic_search_knn_query(\n",
    "    embedding_model=embedding_model,\n",
    "    query=query,\n",
    "    filter_company=\"pltr\",\n",
    "    source=base_source,\n",
    "    vector_field=\"text_vector\",\n",
    ")\n",
    "\n",
    "answer_text_vector = prompting.rag(\n",
    "    query=query,\n",
    "    search_query=search_query_text_vector,\n",
    "    search_client=es_client,\n",
    "    llm_client=llm_client,\n",
    "    retrieval_model=model_name,\n",
    ")"
   ]
  },
  {
   "cell_type": "code",
   "execution_count": 23,
   "metadata": {},
   "outputs": [
    {
     "data": {
      "text/plain": [
       "'\\n Question 4.4 from the paragraph provided: General and Administrative expenses decreased by ... $72.0 million, or 12%.'"
      ]
     },
     "execution_count": 23,
     "metadata": {},
     "output_type": "execute_result"
    }
   ],
   "source": [
    "answer_text_vector"
   ]
  },
  {
   "cell_type": "markdown",
   "metadata": {},
   "source": [
    "Vectorized text data + vectorized attribute data"
   ]
  },
  {
   "cell_type": "code",
   "execution_count": 24,
   "metadata": {},
   "outputs": [],
   "source": [
    "search_query_combined_vector = searching.elastic_search_combined_query(\n",
    "    embedding_model=embedding_model,\n",
    "    query=query,\n",
    "    filter_company=\"pltr\",\n",
    "    source=base_source,\n",
    "    vector_fields=[\"text_vector\", \"non_text_vector\"],\n",
    ")\n",
    "\n",
    "answer_combined = prompting.rag(\n",
    "    query=query,\n",
    "    search_query=search_query_combined_vector,\n",
    "    search_client=es_client,\n",
    "    llm_client=llm_client,\n",
    "    retrieval_model=model_name,\n",
    ")"
   ]
  },
  {
   "cell_type": "code",
   "execution_count": 25,
   "metadata": {},
   "outputs": [
    {
     "data": {
      "text/plain": [
       "\"\\n\\n1. Operating segments of a company being consolidated together into one reportable accounting segment based on their geographical region. The geographical regions are divided into three main divisions and then these three are combined into one single division under an analysis based on the specific attributes shared by all such areas within that division. The primary factors to be considered would include economic climate along with local government policies, regulatory framework enforced at the state level, and tax rates at the country's national level for a comprehensive outlook of where these segments would potentially overlap or diverge economically if they were to report in different regions separately under their respective regions' geographic divisions.\""
      ]
     },
     "execution_count": 25,
     "metadata": {},
     "output_type": "execute_result"
    }
   ],
   "source": [
    "answer_combined"
   ]
  },
  {
   "cell_type": "markdown",
   "metadata": {},
   "source": [
    "---"
   ]
  },
  {
   "cell_type": "markdown",
   "metadata": {},
   "source": [
    "Thoughts:\n",
    "- No real relevant responses to the query\n",
    "- As a next step for optimizing, chunk the data further to have a more relevant contexts returned when searched"
   ]
  }
 ],
 "metadata": {
  "kernelspec": {
   "display_name": ".venv",
   "language": "python",
   "name": "python3"
  },
  "language_info": {
   "codemirror_mode": {
    "name": "ipython",
    "version": 3
   },
   "file_extension": ".py",
   "mimetype": "text/x-python",
   "name": "python",
   "nbconvert_exporter": "python",
   "pygments_lexer": "ipython3",
   "version": "3.11.11"
  }
 },
 "nbformat": 4,
 "nbformat_minor": 2
}
